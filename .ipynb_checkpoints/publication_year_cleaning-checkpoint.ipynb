{
 "cells": [
  {
   "cell_type": "code",
   "execution_count": 1,
   "metadata": {},
   "outputs": [],
   "source": [
    "import pandas as pd"
   ]
  },
  {
   "cell_type": "markdown",
   "metadata": {},
   "source": [
    "The goal of this notebook is to clean up the publication year field from the inventory of the library.\n",
    "This will allow a more standarized field that is better fot filtering and analysis."
   ]
  },
  {
   "cell_type": "code",
   "execution_count": 2,
   "metadata": {},
   "outputs": [
    {
     "name": "stderr",
     "output_type": "stream",
     "text": [
      "/usr/local/lib/python3.7/site-packages/IPython/core/interactiveshell.py:3058: DtypeWarning: Columns (9,16,17) have mixed types. Specify dtype option on import or set low_memory=False.\n",
      "  interactivity=interactivity, compiler=compiler, result=result)\n"
     ]
    }
   ],
   "source": [
    "inventory = pd.read_csv('./seattle-library-checkout-records/inventory_unique.csv')\n",
    "inventory.rename(columns = {'BibNum': 'BibNumber'}, inplace = True)\n"
   ]
  },
  {
   "cell_type": "markdown",
   "metadata": {},
   "source": [
    "### get all unique values and their count, to solve the more frequently occurent issues"
   ]
  },
  {
   "cell_type": "code",
   "execution_count": 3,
   "metadata": {},
   "outputs": [
    {
     "data": {
      "text/html": [
       "<div>\n",
       "<style scoped>\n",
       "    .dataframe tbody tr th:only-of-type {\n",
       "        vertical-align: middle;\n",
       "    }\n",
       "\n",
       "    .dataframe tbody tr th {\n",
       "        vertical-align: top;\n",
       "    }\n",
       "\n",
       "    .dataframe thead th {\n",
       "        text-align: right;\n",
       "    }\n",
       "</style>\n",
       "<table border=\"1\" class=\"dataframe\">\n",
       "  <thead>\n",
       "    <tr style=\"text-align: right;\">\n",
       "      <th></th>\n",
       "      <th>PublicationYear</th>\n",
       "      <th>cnt</th>\n",
       "    </tr>\n",
       "  </thead>\n",
       "  <tbody>\n",
       "    <tr>\n",
       "      <th>0</th>\n",
       "      <td>[2015]</td>\n",
       "      <td>21161</td>\n",
       "    </tr>\n",
       "    <tr>\n",
       "      <th>1</th>\n",
       "      <td>[2016]</td>\n",
       "      <td>20432</td>\n",
       "    </tr>\n",
       "    <tr>\n",
       "      <th>2</th>\n",
       "      <td>[2014]</td>\n",
       "      <td>19129</td>\n",
       "    </tr>\n",
       "    <tr>\n",
       "      <th>3</th>\n",
       "      <td>[2017]</td>\n",
       "      <td>18499</td>\n",
       "    </tr>\n",
       "    <tr>\n",
       "      <th>4</th>\n",
       "      <td>2016.</td>\n",
       "      <td>18063</td>\n",
       "    </tr>\n",
       "  </tbody>\n",
       "</table>\n",
       "</div>"
      ],
      "text/plain": [
       "  PublicationYear    cnt\n",
       "0          [2015]  21161\n",
       "1          [2016]  20432\n",
       "2          [2014]  19129\n",
       "3          [2017]  18499\n",
       "4           2016.  18063"
      ]
     },
     "execution_count": 3,
     "metadata": {},
     "output_type": "execute_result"
    }
   ],
   "source": [
    "unique_years = inventory.groupby('PublicationYear').size().sort_values(ascending = False)\n",
    "unique_years = unique_years.reset_index().rename(columns = {0: 'cnt'})\n",
    "unique_years.head()"
   ]
  },
  {
   "cell_type": "markdown",
   "metadata": {},
   "source": [
    "### clean whatever possible"
   ]
  },
  {
   "cell_type": "code",
   "execution_count": 29,
   "metadata": {},
   "outputs": [],
   "source": [
    "def clean_pub_year(string):\n",
    "    try: \n",
    "        #capture the cases that are of the form 2012, c2011\n",
    "        if string[4]==',' and string[5]==' ' and (string[6]=='c' or string[6]==\"©\"):\n",
    "            new_string = string[6:]\n",
    "        else:\n",
    "            new_string = string\n",
    "\n",
    "        new_string = new_string.replace(\"[\",\"\").replace(\"]\",\"\").replace(\".\",\"\").replace(\"\"\"'\"\"\",\"\")\\\n",
    "                   .replace(\"c\",\"\").replace('\"','').replace(\"(\",\"\").replace(\")\",\"\")\\\n",
    "                  .replace(\",\",\"\").replace(\"-\",\"\").replace(\"?\",\"\")\\\n",
    "                  .replace(\"p\",\"\").replace(\"©\",'').replace(\"℗\",\"\")\n",
    "        if len(new_string)==4:\n",
    "            return int(new_string)\n",
    "        else:\n",
    "            return string\n",
    "    except:\n",
    "        return string"
   ]
  },
  {
   "cell_type": "code",
   "execution_count": 30,
   "metadata": {},
   "outputs": [],
   "source": [
    "unique_years['PublicationYear'] = unique_years['PublicationYear'].apply(lambda x: clean_pub_year(x))"
   ]
  },
  {
   "cell_type": "markdown",
   "metadata": {},
   "source": [
    "### see how many values are covered"
   ]
  },
  {
   "cell_type": "code",
   "execution_count": 31,
   "metadata": {},
   "outputs": [
    {
     "name": "stdout",
     "output_type": "stream",
     "text": [
      "1122120\n",
      "covered 0.9709897337183189\n"
     ]
    }
   ],
   "source": [
    "total = unique_years['cnt'].sum()\n",
    "print(total)\n",
    "\n",
    "not_covered = unique_years[unique_years['PublicationYear'].apply(lambda x: type(x)!=int)]['cnt'].sum()\n",
    "print('covered', (total-not_covered)/total)"
   ]
  },
  {
   "cell_type": "markdown",
   "metadata": {},
   "source": [
    "### see what values remain still problematic"
   ]
  },
  {
   "cell_type": "code",
   "execution_count": 32,
   "metadata": {},
   "outputs": [
    {
     "data": {
      "text/html": [
       "<div>\n",
       "<style scoped>\n",
       "    .dataframe tbody tr th:only-of-type {\n",
       "        vertical-align: middle;\n",
       "    }\n",
       "\n",
       "    .dataframe tbody tr th {\n",
       "        vertical-align: top;\n",
       "    }\n",
       "\n",
       "    .dataframe thead th {\n",
       "        text-align: right;\n",
       "    }\n",
       "</style>\n",
       "<table border=\"1\" class=\"dataframe\">\n",
       "  <thead>\n",
       "    <tr style=\"text-align: right;\">\n",
       "      <th></th>\n",
       "      <th>PublicationYear</th>\n",
       "      <th>cnt</th>\n",
       "    </tr>\n",
       "  </thead>\n",
       "  <tbody>\n",
       "    <tr>\n",
       "      <th>11324</th>\n",
       "      <td>[date of publication not identified]</td>\n",
       "      <td>809</td>\n",
       "    </tr>\n",
       "    <tr>\n",
       "      <th>10765</th>\n",
       "      <td>[between 1900-1999]</td>\n",
       "      <td>560</td>\n",
       "    </tr>\n",
       "    <tr>\n",
       "      <th>5446</th>\n",
       "      <td>[19--]</td>\n",
       "      <td>529</td>\n",
       "    </tr>\n",
       "    <tr>\n",
       "      <th>10836</th>\n",
       "      <td>[between 1980-1989?]</td>\n",
       "      <td>465</td>\n",
       "    </tr>\n",
       "    <tr>\n",
       "      <th>7238</th>\n",
       "      <td>[198-?]</td>\n",
       "      <td>401</td>\n",
       "    </tr>\n",
       "    <tr>\n",
       "      <th>10809</th>\n",
       "      <td>[between 1970-1979?]</td>\n",
       "      <td>263</td>\n",
       "    </tr>\n",
       "    <tr>\n",
       "      <th>5443</th>\n",
       "      <td>[19--?]</td>\n",
       "      <td>241</td>\n",
       "    </tr>\n",
       "    <tr>\n",
       "      <th>10762</th>\n",
       "      <td>[between 1900-1999?]</td>\n",
       "      <td>240</td>\n",
       "    </tr>\n",
       "    <tr>\n",
       "      <th>10937</th>\n",
       "      <td>[between 1990-1999?]</td>\n",
       "      <td>232</td>\n",
       "    </tr>\n",
       "    <tr>\n",
       "      <th>6734</th>\n",
       "      <td>[197-?]</td>\n",
       "      <td>210</td>\n",
       "    </tr>\n",
       "    <tr>\n",
       "      <th>10797</th>\n",
       "      <td>[between 1960-1969?]</td>\n",
       "      <td>184</td>\n",
       "    </tr>\n",
       "    <tr>\n",
       "      <th>4257</th>\n",
       "      <td>19uu.</td>\n",
       "      <td>164</td>\n",
       "    </tr>\n",
       "    <tr>\n",
       "      <th>6269</th>\n",
       "      <td>[196-?]</td>\n",
       "      <td>153</td>\n",
       "    </tr>\n",
       "    <tr>\n",
       "      <th>7904</th>\n",
       "      <td>[199-?]</td>\n",
       "      <td>151</td>\n",
       "    </tr>\n",
       "    <tr>\n",
       "      <th>10963</th>\n",
       "      <td>[between 1990-1999]</td>\n",
       "      <td>117</td>\n",
       "    </tr>\n",
       "    <tr>\n",
       "      <th>10896</th>\n",
       "      <td>[between 1980-1989]</td>\n",
       "      <td>113</td>\n",
       "    </tr>\n",
       "    <tr>\n",
       "      <th>4201</th>\n",
       "      <td>1999 [that is, 2000]</td>\n",
       "      <td>105</td>\n",
       "    </tr>\n",
       "    <tr>\n",
       "      <th>10822</th>\n",
       "      <td>[between 1970-1979]</td>\n",
       "      <td>101</td>\n",
       "    </tr>\n",
       "    <tr>\n",
       "      <th>6908</th>\n",
       "      <td>[1972, c1971]</td>\n",
       "      <td>97</td>\n",
       "    </tr>\n",
       "    <tr>\n",
       "      <th>4266</th>\n",
       "      <td>2000 [that is, 2001]</td>\n",
       "      <td>97</td>\n",
       "    </tr>\n",
       "  </tbody>\n",
       "</table>\n",
       "</div>"
      ],
      "text/plain": [
       "                            PublicationYear  cnt\n",
       "11324  [date of publication not identified]  809\n",
       "10765                   [between 1900-1999]  560\n",
       "5446                                 [19--]  529\n",
       "10836                  [between 1980-1989?]  465\n",
       "7238                                [198-?]  401\n",
       "10809                  [between 1970-1979?]  263\n",
       "5443                                [19--?]  241\n",
       "10762                  [between 1900-1999?]  240\n",
       "10937                  [between 1990-1999?]  232\n",
       "6734                                [197-?]  210\n",
       "10797                  [between 1960-1969?]  184\n",
       "4257                                  19uu.  164\n",
       "6269                                [196-?]  153\n",
       "7904                                [199-?]  151\n",
       "10963                   [between 1990-1999]  117\n",
       "10896                   [between 1980-1989]  113\n",
       "4201                   1999 [that is, 2000]  105\n",
       "10822                   [between 1970-1979]  101\n",
       "6908                          [1972, c1971]   97\n",
       "4266                   2000 [that is, 2001]   97"
      ]
     },
     "execution_count": 32,
     "metadata": {},
     "output_type": "execute_result"
    }
   ],
   "source": [
    "not_resolved = unique_years[unique_years['PublicationYear'].apply(lambda x: type(x)!=int)].groupby('PublicationYear').sum().reset_index()\n",
    "not_resolved.sort_values(by='cnt', ascending = False, inplace = True)\n",
    "\n",
    "not_resolved.head(20)"
   ]
  },
  {
   "cell_type": "markdown",
   "metadata": {},
   "source": [
    "### when we are satisfied with the accuracy, then we can implement the change in the inventory file"
   ]
  },
  {
   "cell_type": "code",
   "execution_count": 33,
   "metadata": {},
   "outputs": [],
   "source": [
    "inventory['PublicationYear'] = inventory['PublicationYear'].apply(lambda x: clean_pub_year(x))"
   ]
  },
  {
   "cell_type": "code",
   "execution_count": 35,
   "metadata": {},
   "outputs": [],
   "source": [
    "inventory[inventory['PublicationYear'].apply(lambda x: type(x)==int)].to_csv('./seattle-library-checkout-records/inventory_unique_clean_pub_year.csv', index = False)"
   ]
  },
  {
   "cell_type": "markdown",
   "metadata": {},
   "source": [
    "### vis"
   ]
  },
  {
   "cell_type": "code",
   "execution_count": 2,
   "metadata": {},
   "outputs": [
    {
     "name": "stderr",
     "output_type": "stream",
     "text": [
      "/usr/local/lib/python3.7/site-packages/IPython/core/interactiveshell.py:3058: DtypeWarning: Columns (9,16,17) have mixed types. Specify dtype option on import or set low_memory=False.\n",
      "  interactivity=interactivity, compiler=compiler, result=result)\n"
     ]
    }
   ],
   "source": [
    "inventory = pd.read_csv('./seattle-library-checkout-records/inventory_unique_clean_pub_year.csv')"
   ]
  },
  {
   "cell_type": "code",
   "execution_count": null,
   "metadata": {},
   "outputs": [],
   "source": [
    "inventory.groupby('PublicationYear').size().sort_values(ascending = False)[:10]"
   ]
  }
 ],
 "metadata": {
  "kernelspec": {
   "display_name": "Python 3",
   "language": "python",
   "name": "python3"
  },
  "language_info": {
   "codemirror_mode": {
    "name": "ipython",
    "version": 3
   },
   "file_extension": ".py",
   "mimetype": "text/x-python",
   "name": "python",
   "nbconvert_exporter": "python",
   "pygments_lexer": "ipython3",
   "version": "3.7.4"
  },
  "toc": {
   "base_numbering": 1,
   "nav_menu": {},
   "number_sections": true,
   "sideBar": true,
   "skip_h1_title": false,
   "title_cell": "Table of Contents",
   "title_sidebar": "Contents",
   "toc_cell": false,
   "toc_position": {},
   "toc_section_display": true,
   "toc_window_display": false
  }
 },
 "nbformat": 4,
 "nbformat_minor": 2
}
