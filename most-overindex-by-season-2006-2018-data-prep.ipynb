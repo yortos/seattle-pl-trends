{
 "cells": [
  {
   "cell_type": "code",
   "execution_count": 1,
   "metadata": {
    "ExecuteTime": {
     "end_time": "2019-01-04T23:31:27.799174",
     "start_time": "2019-01-04T23:31:26.909798"
    }
   },
   "outputs": [],
   "source": [
    "import pandas as pd\n",
    "import matplotlib.pylab as plt\n",
    "from datetime import datetime\n",
    "plt.style.use('fivethirtyeight')\n",
    "%matplotlib inline"
   ]
  },
  {
   "cell_type": "code",
   "execution_count": 34,
   "metadata": {
    "ExecuteTime": {
     "end_time": "2019-01-04T23:31:43.402132",
     "start_time": "2019-01-04T23:31:28.393575"
    }
   },
   "outputs": [
    {
     "name": "stdout",
     "output_type": "stream",
     "text": [
      "3436058\n"
     ]
    }
   ],
   "source": [
    "df = pd.read_csv('./seattle-library-checkout-records/most_checked_out_books_per_month.csv')\n",
    "del df['Unnamed: 0']\n",
    "print(len(df))"
   ]
  },
  {
   "cell_type": "code",
   "execution_count": 35,
   "metadata": {
    "ExecuteTime": {
     "end_time": "2019-01-04T23:31:43.451755",
     "start_time": "2019-01-04T23:31:43.403825"
    }
   },
   "outputs": [
    {
     "data": {
      "text/html": [
       "<div>\n",
       "<style scoped>\n",
       "    .dataframe tbody tr th:only-of-type {\n",
       "        vertical-align: middle;\n",
       "    }\n",
       "\n",
       "    .dataframe tbody tr th {\n",
       "        vertical-align: top;\n",
       "    }\n",
       "\n",
       "    .dataframe thead th {\n",
       "        text-align: right;\n",
       "    }\n",
       "</style>\n",
       "<table border=\"1\" class=\"dataframe\">\n",
       "  <thead>\n",
       "    <tr style=\"text-align: right;\">\n",
       "      <th></th>\n",
       "      <th>checkout_month</th>\n",
       "      <th>title</th>\n",
       "      <th>author</th>\n",
       "      <th>num_checkouts</th>\n",
       "    </tr>\n",
       "  </thead>\n",
       "  <tbody>\n",
       "    <tr>\n",
       "      <th>0</th>\n",
       "      <td>3</td>\n",
       "      <td>A wrinkle in time / Madeleine L'Engle.</td>\n",
       "      <td>L'Engle, Madeleine</td>\n",
       "      <td>4930</td>\n",
       "    </tr>\n",
       "    <tr>\n",
       "      <th>1</th>\n",
       "      <td>7</td>\n",
       "      <td>A wrinkle in time / Madeleine L'Engle.</td>\n",
       "      <td>L'Engle, Madeleine</td>\n",
       "      <td>4550</td>\n",
       "    </tr>\n",
       "    <tr>\n",
       "      <th>2</th>\n",
       "      <td>5</td>\n",
       "      <td>A wrinkle in time / Madeleine L'Engle.</td>\n",
       "      <td>L'Engle, Madeleine</td>\n",
       "      <td>4524</td>\n",
       "    </tr>\n",
       "    <tr>\n",
       "      <th>3</th>\n",
       "      <td>6</td>\n",
       "      <td>A wrinkle in time / Madeleine L'Engle.</td>\n",
       "      <td>L'Engle, Madeleine</td>\n",
       "      <td>4426</td>\n",
       "    </tr>\n",
       "    <tr>\n",
       "      <th>4</th>\n",
       "      <td>4</td>\n",
       "      <td>A wrinkle in time / Madeleine L'Engle.</td>\n",
       "      <td>L'Engle, Madeleine</td>\n",
       "      <td>4388</td>\n",
       "    </tr>\n",
       "  </tbody>\n",
       "</table>\n",
       "</div>"
      ],
      "text/plain": [
       "   checkout_month                                   title              author  \\\n",
       "0               3  A wrinkle in time / Madeleine L'Engle.  L'Engle, Madeleine   \n",
       "1               7  A wrinkle in time / Madeleine L'Engle.  L'Engle, Madeleine   \n",
       "2               5  A wrinkle in time / Madeleine L'Engle.  L'Engle, Madeleine   \n",
       "3               6  A wrinkle in time / Madeleine L'Engle.  L'Engle, Madeleine   \n",
       "4               4  A wrinkle in time / Madeleine L'Engle.  L'Engle, Madeleine   \n",
       "\n",
       "   num_checkouts  \n",
       "0           4930  \n",
       "1           4550  \n",
       "2           4524  \n",
       "3           4426  \n",
       "4           4388  "
      ]
     },
     "execution_count": 35,
     "metadata": {},
     "output_type": "execute_result"
    }
   ],
   "source": [
    "df.head()"
   ]
  },
  {
   "cell_type": "code",
   "execution_count": 36,
   "metadata": {
    "ExecuteTime": {
     "end_time": "2019-01-04T23:47:01.602678",
     "start_time": "2019-01-04T23:47:00.192819"
    }
   },
   "outputs": [
    {
     "data": {
      "text/plain": [
       "<BarContainer object of 12 artists>"
      ]
     },
     "execution_count": 36,
     "metadata": {},
     "output_type": "execute_result"
    },
    {
     "data": {
      "image/png": "[encoded data removed]",
      "text/plain": [
       "<Figure size 432x288 with 1 Axes>"
      ]
     },
     "metadata": {
      "needs_background": "light"
     },
     "output_type": "display_data"
    }
   ],
   "source": [
    "# rigor test: this by-month distribution agrees with previous work I have done with this data.\n",
    "plt.bar(range(12), df.groupby('checkout_month')['num_checkouts'].sum())"
   ]
  },
  {
   "cell_type": "markdown",
   "metadata": {},
   "source": [
    "# Explore the items"
   ]
  },
  {
   "cell_type": "code",
   "execution_count": 37,
   "metadata": {},
   "outputs": [
    {
     "data": {
      "text/html": [
       "<div>\n",
       "<style scoped>\n",
       "    .dataframe tbody tr th:only-of-type {\n",
       "        vertical-align: middle;\n",
       "    }\n",
       "\n",
       "    .dataframe tbody tr th {\n",
       "        vertical-align: top;\n",
       "    }\n",
       "\n",
       "    .dataframe thead th {\n",
       "        text-align: right;\n",
       "    }\n",
       "</style>\n",
       "<table border=\"1\" class=\"dataframe\">\n",
       "  <thead>\n",
       "    <tr style=\"text-align: right;\">\n",
       "      <th></th>\n",
       "      <th>title</th>\n",
       "      <th>author</th>\n",
       "      <th>num_checkouts</th>\n",
       "    </tr>\n",
       "  </thead>\n",
       "  <tbody>\n",
       "    <tr>\n",
       "      <th>0</th>\n",
       "      <td>!Buenos nachos! / by Gina Hamadey ; foreward b...</td>\n",
       "      <td>Hamadey, Gina</td>\n",
       "      <td>30</td>\n",
       "    </tr>\n",
       "    <tr>\n",
       "      <th>1</th>\n",
       "      <td>!Estamos en un libro! / por Mo Willems ; adapt...</td>\n",
       "      <td>Willems, Mo</td>\n",
       "      <td>408</td>\n",
       "    </tr>\n",
       "    <tr>\n",
       "      <th>2</th>\n",
       "      <td>!No dejes que la paloma conduzca el autobus! /...</td>\n",
       "      <td>Willems, Mo</td>\n",
       "      <td>188</td>\n",
       "    </tr>\n",
       "    <tr>\n",
       "      <th>3</th>\n",
       "      <td>!Orozco! 1883-1949 : an exhibition / organised...</td>\n",
       "      <td>Orozco, José Clemente, 1883-1949</td>\n",
       "      <td>1</td>\n",
       "    </tr>\n",
       "    <tr>\n",
       "      <th>4</th>\n",
       "      <td>!Qué confusión! / Ana Maria Machado ; ilustrac...</td>\n",
       "      <td>Machado, Ana Maria, 1941-</td>\n",
       "      <td>5</td>\n",
       "    </tr>\n",
       "  </tbody>\n",
       "</table>\n",
       "</div>"
      ],
      "text/plain": [
       "                                               title  \\\n",
       "0  !Buenos nachos! / by Gina Hamadey ; foreward b...   \n",
       "1  !Estamos en un libro! / por Mo Willems ; adapt...   \n",
       "2  !No dejes que la paloma conduzca el autobus! /...   \n",
       "3  !Orozco! 1883-1949 : an exhibition / organised...   \n",
       "4  !Qué confusión! / Ana Maria Machado ; ilustrac...   \n",
       "\n",
       "                             author  num_checkouts  \n",
       "0                     Hamadey, Gina             30  \n",
       "1                       Willems, Mo            408  \n",
       "2                       Willems, Mo            188  \n",
       "3  Orozco, José Clemente, 1883-1949              1  \n",
       "4         Machado, Ana Maria, 1941-              5  "
      ]
     },
     "execution_count": 37,
     "metadata": {},
     "output_type": "execute_result"
    }
   ],
   "source": [
    "checkout_sum = df.groupby(['title','author'])['num_checkouts'].sum().to_frame().reset_index()\n",
    "checkout_sum.head()"
   ]
  },
  {
   "cell_type": "code",
   "execution_count": 38,
   "metadata": {},
   "outputs": [
    {
     "data": {
      "text/plain": [
       "36.0"
      ]
     },
     "execution_count": 38,
     "metadata": {},
     "output_type": "execute_result"
    }
   ],
   "source": [
    "checkout_sum['num_checkouts'].median()"
   ]
  },
  {
   "cell_type": "code",
   "execution_count": 39,
   "metadata": {},
   "outputs": [
    {
     "data": {
      "text/plain": [
       "148.72204176214763"
      ]
     },
     "execution_count": 39,
     "metadata": {},
     "output_type": "execute_result"
    }
   ],
   "source": [
    "checkout_sum['num_checkouts'].mean()"
   ]
  },
  {
   "cell_type": "code",
   "execution_count": 40,
   "metadata": {},
   "outputs": [
    {
     "data": {
      "text/plain": [
       "{'whiskers': [<matplotlib.lines.Line2D at 0x12961b310>,\n",
       "  <matplotlib.lines.Line2D at 0x129621510>],\n",
       " 'caps': [<matplotlib.lines.Line2D at 0x129621a10>,\n",
       "  <matplotlib.lines.Line2D at 0x129621f10>],\n",
       " 'boxes': [<matplotlib.lines.Line2D at 0x12961b2d0>],\n",
       " 'medians': [<matplotlib.lines.Line2D at 0x12961bf90>],\n",
       " 'fliers': [<matplotlib.lines.Line2D at 0x12962a990>],\n",
       " 'means': []}"
      ]
     },
     "execution_count": 40,
     "metadata": {},
     "output_type": "execute_result"
    },
    {
     "data": {
      "image/png": "[encoded data removed]",
      "text/plain": [
       "<Figure size 432x288 with 1 Axes>"
      ]
     },
     "metadata": {
      "needs_background": "light"
     },
     "output_type": "display_data"
    }
   ],
   "source": [
    "plt.boxplot(checkout_sum['num_checkouts'])"
   ]
  },
  {
   "cell_type": "markdown",
   "metadata": {
    "ExecuteTime": {
     "end_time": "2019-01-04T23:38:35.697217",
     "start_time": "2019-01-04T23:38:34.314944"
    }
   },
   "source": [
    "# over-performance metric"
   ]
  },
  {
   "cell_type": "code",
   "execution_count": 48,
   "metadata": {},
   "outputs": [],
   "source": [
    "df_unstack = df.pivot_table(index= ['title', 'author'], columns='checkout_month', values='num_checkouts')"
   ]
  },
  {
   "cell_type": "code",
   "execution_count": 50,
   "metadata": {},
   "outputs": [
    {
     "name": "stdout",
     "output_type": "stream",
     "text": [
      "388821\n"
     ]
    }
   ],
   "source": [
    "print(len(df_unstack))"
   ]
  },
  {
   "cell_type": "markdown",
   "metadata": {},
   "source": [
    "### keep only items that have at least one checkout for every month of the year"
   ]
  },
  {
   "cell_type": "code",
   "execution_count": 51,
   "metadata": {},
   "outputs": [],
   "source": [
    "df_unstack.dropna(subset=range(1,13), inplace=True)"
   ]
  },
  {
   "cell_type": "code",
   "execution_count": 52,
   "metadata": {},
   "outputs": [
    {
     "data": {
      "text/plain": [
       "165892"
      ]
     },
     "execution_count": 52,
     "metadata": {},
     "output_type": "execute_result"
    }
   ],
   "source": [
    "len(df_unstack)"
   ]
  },
  {
   "cell_type": "code",
   "execution_count": 76,
   "metadata": {},
   "outputs": [
    {
     "data": {
      "text/html": [
       "<div>\n",
       "<style scoped>\n",
       "    .dataframe tbody tr th:only-of-type {\n",
       "        vertical-align: middle;\n",
       "    }\n",
       "\n",
       "    .dataframe tbody tr th {\n",
       "        vertical-align: top;\n",
       "    }\n",
       "\n",
       "    .dataframe thead th {\n",
       "        text-align: right;\n",
       "    }\n",
       "</style>\n",
       "<table border=\"1\" class=\"dataframe\">\n",
       "  <thead>\n",
       "    <tr style=\"text-align: right;\">\n",
       "      <th></th>\n",
       "      <th>checkout_month</th>\n",
       "      <th>1</th>\n",
       "      <th>2</th>\n",
       "      <th>3</th>\n",
       "      <th>4</th>\n",
       "      <th>5</th>\n",
       "      <th>6</th>\n",
       "      <th>7</th>\n",
       "      <th>8</th>\n",
       "      <th>9</th>\n",
       "      <th>10</th>\n",
       "      <th>11</th>\n",
       "      <th>12</th>\n",
       "    </tr>\n",
       "    <tr>\n",
       "      <th>title</th>\n",
       "      <th>author</th>\n",
       "      <th></th>\n",
       "      <th></th>\n",
       "      <th></th>\n",
       "      <th></th>\n",
       "      <th></th>\n",
       "      <th></th>\n",
       "      <th></th>\n",
       "      <th></th>\n",
       "      <th></th>\n",
       "      <th></th>\n",
       "      <th></th>\n",
       "      <th></th>\n",
       "    </tr>\n",
       "  </thead>\n",
       "  <tbody>\n",
       "    <tr>\n",
       "      <th>!Buenos nachos! / by Gina Hamadey ; foreward by Andrew Knowlton ; photography by Noah Fecks.</th>\n",
       "      <th>Hamadey, Gina</th>\n",
       "      <td>4.0</td>\n",
       "      <td>4.0</td>\n",
       "      <td>4.0</td>\n",
       "      <td>3.0</td>\n",
       "      <td>4.0</td>\n",
       "      <td>1.0</td>\n",
       "      <td>2.0</td>\n",
       "      <td>2.0</td>\n",
       "      <td>3.0</td>\n",
       "      <td>1.0</td>\n",
       "      <td>1.0</td>\n",
       "      <td>1.0</td>\n",
       "    </tr>\n",
       "    <tr>\n",
       "      <th>!Estamos en un libro! / por Mo Willems ; adaptado al español por F. Isabel Campoy.</th>\n",
       "      <th>Willems, Mo</th>\n",
       "      <td>32.0</td>\n",
       "      <td>38.0</td>\n",
       "      <td>18.0</td>\n",
       "      <td>24.0</td>\n",
       "      <td>30.0</td>\n",
       "      <td>20.0</td>\n",
       "      <td>32.0</td>\n",
       "      <td>46.0</td>\n",
       "      <td>34.0</td>\n",
       "      <td>52.0</td>\n",
       "      <td>42.0</td>\n",
       "      <td>40.0</td>\n",
       "    </tr>\n",
       "    <tr>\n",
       "      <th>!No dejes que la paloma conduzca el autobus! / palabras y dibujos de Mo Willems ; traducio por F. Isabel Campoy.</th>\n",
       "      <th>Willems, Mo</th>\n",
       "      <td>10.0</td>\n",
       "      <td>16.0</td>\n",
       "      <td>18.0</td>\n",
       "      <td>12.0</td>\n",
       "      <td>18.0</td>\n",
       "      <td>16.0</td>\n",
       "      <td>12.0</td>\n",
       "      <td>8.0</td>\n",
       "      <td>20.0</td>\n",
       "      <td>22.0</td>\n",
       "      <td>24.0</td>\n",
       "      <td>12.0</td>\n",
       "    </tr>\n",
       "    <tr>\n",
       "      <th>\"---and ladies of the club\" / Helen Hooven Santmyer.</th>\n",
       "      <th>Santmyer, Helen Hooven, 1895-1986</th>\n",
       "      <td>6.0</td>\n",
       "      <td>7.0</td>\n",
       "      <td>6.0</td>\n",
       "      <td>7.0</td>\n",
       "      <td>7.0</td>\n",
       "      <td>8.0</td>\n",
       "      <td>10.0</td>\n",
       "      <td>7.0</td>\n",
       "      <td>8.0</td>\n",
       "      <td>5.0</td>\n",
       "      <td>6.0</td>\n",
       "      <td>9.0</td>\n",
       "    </tr>\n",
       "    <tr>\n",
       "      <th>\"...Ikh bin nervoso!\" / Dina Rubina.</th>\n",
       "      <th>Rubina, Dina</th>\n",
       "      <td>2.0</td>\n",
       "      <td>6.0</td>\n",
       "      <td>8.0</td>\n",
       "      <td>5.0</td>\n",
       "      <td>6.0</td>\n",
       "      <td>3.0</td>\n",
       "      <td>4.0</td>\n",
       "      <td>3.0</td>\n",
       "      <td>3.0</td>\n",
       "      <td>1.0</td>\n",
       "      <td>4.0</td>\n",
       "      <td>3.0</td>\n",
       "    </tr>\n",
       "  </tbody>\n",
       "</table>\n",
       "</div>"
      ],
      "text/plain": [
       "checkout_month                                                                          1   \\\n",
       "title                                              author                                    \n",
       "!Buenos nachos! / by Gina Hamadey ; foreward by... Hamadey, Gina                       4.0   \n",
       "!Estamos en un libro! / por Mo Willems ; adapta... Willems, Mo                        32.0   \n",
       "!No dejes que la paloma conduzca el autobus! / ... Willems, Mo                        10.0   \n",
       "\"---and ladies of the club\" / Helen Hooven Sant... Santmyer, Helen Hooven, 1895-1986   6.0   \n",
       "\"...Ikh bin nervoso!\" / Dina Rubina.               Rubina, Dina                        2.0   \n",
       "\n",
       "checkout_month                                                                          2   \\\n",
       "title                                              author                                    \n",
       "!Buenos nachos! / by Gina Hamadey ; foreward by... Hamadey, Gina                       4.0   \n",
       "!Estamos en un libro! / por Mo Willems ; adapta... Willems, Mo                        38.0   \n",
       "!No dejes que la paloma conduzca el autobus! / ... Willems, Mo                        16.0   \n",
       "\"---and ladies of the club\" / Helen Hooven Sant... Santmyer, Helen Hooven, 1895-1986   7.0   \n",
       "\"...Ikh bin nervoso!\" / Dina Rubina.               Rubina, Dina                        6.0   \n",
       "\n",
       "checkout_month                                                                          3   \\\n",
       "title                                              author                                    \n",
       "!Buenos nachos! / by Gina Hamadey ; foreward by... Hamadey, Gina                       4.0   \n",
       "!Estamos en un libro! / por Mo Willems ; adapta... Willems, Mo                        18.0   \n",
       "!No dejes que la paloma conduzca el autobus! / ... Willems, Mo                        18.0   \n",
       "\"---and ladies of the club\" / Helen Hooven Sant... Santmyer, Helen Hooven, 1895-1986   6.0   \n",
       "\"...Ikh bin nervoso!\" / Dina Rubina.               Rubina, Dina                        8.0   \n",
       "\n",
       "checkout_month                                                                          4   \\\n",
       "title                                              author                                    \n",
       "!Buenos nachos! / by Gina Hamadey ; foreward by... Hamadey, Gina                       3.0   \n",
       "!Estamos en un libro! / por Mo Willems ; adapta... Willems, Mo                        24.0   \n",
       "!No dejes que la paloma conduzca el autobus! / ... Willems, Mo                        12.0   \n",
       "\"---and ladies of the club\" / Helen Hooven Sant... Santmyer, Helen Hooven, 1895-1986   7.0   \n",
       "\"...Ikh bin nervoso!\" / Dina Rubina.               Rubina, Dina                        5.0   \n",
       "\n",
       "checkout_month                                                                          5   \\\n",
       "title                                              author                                    \n",
       "!Buenos nachos! / by Gina Hamadey ; foreward by... Hamadey, Gina                       4.0   \n",
       "!Estamos en un libro! / por Mo Willems ; adapta... Willems, Mo                        30.0   \n",
       "!No dejes que la paloma conduzca el autobus! / ... Willems, Mo                        18.0   \n",
       "\"---and ladies of the club\" / Helen Hooven Sant... Santmyer, Helen Hooven, 1895-1986   7.0   \n",
       "\"...Ikh bin nervoso!\" / Dina Rubina.               Rubina, Dina                        6.0   \n",
       "\n",
       "checkout_month                                                                          6   \\\n",
       "title                                              author                                    \n",
       "!Buenos nachos! / by Gina Hamadey ; foreward by... Hamadey, Gina                       1.0   \n",
       "!Estamos en un libro! / por Mo Willems ; adapta... Willems, Mo                        20.0   \n",
       "!No dejes que la paloma conduzca el autobus! / ... Willems, Mo                        16.0   \n",
       "\"---and ladies of the club\" / Helen Hooven Sant... Santmyer, Helen Hooven, 1895-1986   8.0   \n",
       "\"...Ikh bin nervoso!\" / Dina Rubina.               Rubina, Dina                        3.0   \n",
       "\n",
       "checkout_month                                                                          7   \\\n",
       "title                                              author                                    \n",
       "!Buenos nachos! / by Gina Hamadey ; foreward by... Hamadey, Gina                       2.0   \n",
       "!Estamos en un libro! / por Mo Willems ; adapta... Willems, Mo                        32.0   \n",
       "!No dejes que la paloma conduzca el autobus! / ... Willems, Mo                        12.0   \n",
       "\"---and ladies of the club\" / Helen Hooven Sant... Santmyer, Helen Hooven, 1895-1986  10.0   \n",
       "\"...Ikh bin nervoso!\" / Dina Rubina.               Rubina, Dina                        4.0   \n",
       "\n",
       "checkout_month                                                                          8   \\\n",
       "title                                              author                                    \n",
       "!Buenos nachos! / by Gina Hamadey ; foreward by... Hamadey, Gina                       2.0   \n",
       "!Estamos en un libro! / por Mo Willems ; adapta... Willems, Mo                        46.0   \n",
       "!No dejes que la paloma conduzca el autobus! / ... Willems, Mo                         8.0   \n",
       "\"---and ladies of the club\" / Helen Hooven Sant... Santmyer, Helen Hooven, 1895-1986   7.0   \n",
       "\"...Ikh bin nervoso!\" / Dina Rubina.               Rubina, Dina                        3.0   \n",
       "\n",
       "checkout_month                                                                          9   \\\n",
       "title                                              author                                    \n",
       "!Buenos nachos! / by Gina Hamadey ; foreward by... Hamadey, Gina                       3.0   \n",
       "!Estamos en un libro! / por Mo Willems ; adapta... Willems, Mo                        34.0   \n",
       "!No dejes que la paloma conduzca el autobus! / ... Willems, Mo                        20.0   \n",
       "\"---and ladies of the club\" / Helen Hooven Sant... Santmyer, Helen Hooven, 1895-1986   8.0   \n",
       "\"...Ikh bin nervoso!\" / Dina Rubina.               Rubina, Dina                        3.0   \n",
       "\n",
       "checkout_month                                                                          10  \\\n",
       "title                                              author                                    \n",
       "!Buenos nachos! / by Gina Hamadey ; foreward by... Hamadey, Gina                       1.0   \n",
       "!Estamos en un libro! / por Mo Willems ; adapta... Willems, Mo                        52.0   \n",
       "!No dejes que la paloma conduzca el autobus! / ... Willems, Mo                        22.0   \n",
       "\"---and ladies of the club\" / Helen Hooven Sant... Santmyer, Helen Hooven, 1895-1986   5.0   \n",
       "\"...Ikh bin nervoso!\" / Dina Rubina.               Rubina, Dina                        1.0   \n",
       "\n",
       "checkout_month                                                                          11  \\\n",
       "title                                              author                                    \n",
       "!Buenos nachos! / by Gina Hamadey ; foreward by... Hamadey, Gina                       1.0   \n",
       "!Estamos en un libro! / por Mo Willems ; adapta... Willems, Mo                        42.0   \n",
       "!No dejes que la paloma conduzca el autobus! / ... Willems, Mo                        24.0   \n",
       "\"---and ladies of the club\" / Helen Hooven Sant... Santmyer, Helen Hooven, 1895-1986   6.0   \n",
       "\"...Ikh bin nervoso!\" / Dina Rubina.               Rubina, Dina                        4.0   \n",
       "\n",
       "checkout_month                                                                          12  \n",
       "title                                              author                                   \n",
       "!Buenos nachos! / by Gina Hamadey ; foreward by... Hamadey, Gina                       1.0  \n",
       "!Estamos en un libro! / por Mo Willems ; adapta... Willems, Mo                        40.0  \n",
       "!No dejes que la paloma conduzca el autobus! / ... Willems, Mo                        12.0  \n",
       "\"---and ladies of the club\" / Helen Hooven Sant... Santmyer, Helen Hooven, 1895-1986   9.0  \n",
       "\"...Ikh bin nervoso!\" / Dina Rubina.               Rubina, Dina                        3.0  "
      ]
     },
     "execution_count": 76,
     "metadata": {},
     "output_type": "execute_result"
    }
   ],
   "source": [
    "df_unstack.head()"
   ]
  },
  {
   "cell_type": "markdown",
   "metadata": {},
   "source": [
    "# Approach 1: Overall monthly distribution vs an item's specific monthly distribution"
   ]
  },
  {
   "cell_type": "code",
   "execution_count": 66,
   "metadata": {},
   "outputs": [
    {
     "data": {
      "text/plain": [
       "<BarContainer object of 12 artists>"
      ]
     },
     "execution_count": 66,
     "metadata": {},
     "output_type": "execute_result"
    },
    {
     "data": {
      "image/png": "[encoded data removed]",
      "text/plain": [
       "<Figure size 432x288 with 1 Axes>"
      ]
     },
     "metadata": {
      "needs_background": "light"
     },
     "output_type": "display_data"
    }
   ],
   "source": [
    "plt.bar(range(12), df.groupby('checkout_month')['num_checkouts'].sum())"
   ]
  },
  {
   "cell_type": "code",
   "execution_count": 73,
   "metadata": {},
   "outputs": [],
   "source": [
    "overall_dist = list(df.groupby('checkout_month')['num_checkouts'].sum()/df.groupby('checkout_month')['num_checkouts'].sum().sum()*100)"
   ]
  },
  {
   "cell_type": "markdown",
   "metadata": {},
   "source": [
    "### convert the df_unstack into percentage"
   ]
  },
  {
   "cell_type": "code",
   "execution_count": 80,
   "metadata": {},
   "outputs": [],
   "source": [
    "df_unstack_pct = df_unstack.copy()"
   ]
  },
  {
   "cell_type": "code",
   "execution_count": 89,
   "metadata": {
    "scrolled": true
   },
   "outputs": [],
   "source": [
    "for index, row in df_unstack.iterrows():\n",
    "    sum_ = row.sum()\n",
    "    df_unstack_pct.loc[index] = row/sum_*100"
   ]
  },
  {
   "cell_type": "code",
   "execution_count": 90,
   "metadata": {},
   "outputs": [
    {
     "data": {
      "text/html": [
       "<div>\n",
       "<style scoped>\n",
       "    .dataframe tbody tr th:only-of-type {\n",
       "        vertical-align: middle;\n",
       "    }\n",
       "\n",
       "    .dataframe tbody tr th {\n",
       "        vertical-align: top;\n",
       "    }\n",
       "\n",
       "    .dataframe thead th {\n",
       "        text-align: right;\n",
       "    }\n",
       "</style>\n",
       "<table border=\"1\" class=\"dataframe\">\n",
       "  <thead>\n",
       "    <tr style=\"text-align: right;\">\n",
       "      <th></th>\n",
       "      <th>checkout_month</th>\n",
       "      <th>1</th>\n",
       "      <th>2</th>\n",
       "      <th>3</th>\n",
       "      <th>4</th>\n",
       "      <th>5</th>\n",
       "      <th>6</th>\n",
       "      <th>7</th>\n",
       "      <th>8</th>\n",
       "      <th>9</th>\n",
       "      <th>10</th>\n",
       "      <th>11</th>\n",
       "      <th>12</th>\n",
       "    </tr>\n",
       "    <tr>\n",
       "      <th>title</th>\n",
       "      <th>author</th>\n",
       "      <th></th>\n",
       "      <th></th>\n",
       "      <th></th>\n",
       "      <th></th>\n",
       "      <th></th>\n",
       "      <th></th>\n",
       "      <th></th>\n",
       "      <th></th>\n",
       "      <th></th>\n",
       "      <th></th>\n",
       "      <th></th>\n",
       "      <th></th>\n",
       "    </tr>\n",
       "  </thead>\n",
       "  <tbody>\n",
       "    <tr>\n",
       "      <th>!Buenos nachos! / by Gina Hamadey ; foreward by Andrew Knowlton ; photography by Noah Fecks.</th>\n",
       "      <th>Hamadey, Gina</th>\n",
       "      <td>13.333333</td>\n",
       "      <td>13.333333</td>\n",
       "      <td>13.333333</td>\n",
       "      <td>10.000000</td>\n",
       "      <td>13.333333</td>\n",
       "      <td>3.333333</td>\n",
       "      <td>6.666667</td>\n",
       "      <td>6.666667</td>\n",
       "      <td>10.000000</td>\n",
       "      <td>3.333333</td>\n",
       "      <td>3.333333</td>\n",
       "      <td>3.333333</td>\n",
       "    </tr>\n",
       "    <tr>\n",
       "      <th>!Estamos en un libro! / por Mo Willems ; adaptado al español por F. Isabel Campoy.</th>\n",
       "      <th>Willems, Mo</th>\n",
       "      <td>7.843137</td>\n",
       "      <td>9.313725</td>\n",
       "      <td>4.411765</td>\n",
       "      <td>5.882353</td>\n",
       "      <td>7.352941</td>\n",
       "      <td>4.901961</td>\n",
       "      <td>7.843137</td>\n",
       "      <td>11.274510</td>\n",
       "      <td>8.333333</td>\n",
       "      <td>12.745098</td>\n",
       "      <td>10.294118</td>\n",
       "      <td>9.803922</td>\n",
       "    </tr>\n",
       "    <tr>\n",
       "      <th>!No dejes que la paloma conduzca el autobus! / palabras y dibujos de Mo Willems ; traducio por F. Isabel Campoy.</th>\n",
       "      <th>Willems, Mo</th>\n",
       "      <td>5.319149</td>\n",
       "      <td>8.510638</td>\n",
       "      <td>9.574468</td>\n",
       "      <td>6.382979</td>\n",
       "      <td>9.574468</td>\n",
       "      <td>8.510638</td>\n",
       "      <td>6.382979</td>\n",
       "      <td>4.255319</td>\n",
       "      <td>10.638298</td>\n",
       "      <td>11.702128</td>\n",
       "      <td>12.765957</td>\n",
       "      <td>6.382979</td>\n",
       "    </tr>\n",
       "    <tr>\n",
       "      <th>\"---and ladies of the club\" / Helen Hooven Santmyer.</th>\n",
       "      <th>Santmyer, Helen Hooven, 1895-1986</th>\n",
       "      <td>6.976744</td>\n",
       "      <td>8.139535</td>\n",
       "      <td>6.976744</td>\n",
       "      <td>8.139535</td>\n",
       "      <td>8.139535</td>\n",
       "      <td>9.302326</td>\n",
       "      <td>11.627907</td>\n",
       "      <td>8.139535</td>\n",
       "      <td>9.302326</td>\n",
       "      <td>5.813953</td>\n",
       "      <td>6.976744</td>\n",
       "      <td>10.465116</td>\n",
       "    </tr>\n",
       "    <tr>\n",
       "      <th>\"...Ikh bin nervoso!\" / Dina Rubina.</th>\n",
       "      <th>Rubina, Dina</th>\n",
       "      <td>4.166667</td>\n",
       "      <td>12.500000</td>\n",
       "      <td>16.666667</td>\n",
       "      <td>10.416667</td>\n",
       "      <td>12.500000</td>\n",
       "      <td>6.250000</td>\n",
       "      <td>8.333333</td>\n",
       "      <td>6.250000</td>\n",
       "      <td>6.250000</td>\n",
       "      <td>2.083333</td>\n",
       "      <td>8.333333</td>\n",
       "      <td>6.250000</td>\n",
       "    </tr>\n",
       "  </tbody>\n",
       "</table>\n",
       "</div>"
      ],
      "text/plain": [
       "checkout_month                                                                               1   \\\n",
       "title                                              author                                         \n",
       "!Buenos nachos! / by Gina Hamadey ; foreward by... Hamadey, Gina                      13.333333   \n",
       "!Estamos en un libro! / por Mo Willems ; adapta... Willems, Mo                         7.843137   \n",
       "!No dejes que la paloma conduzca el autobus! / ... Willems, Mo                         5.319149   \n",
       "\"---and ladies of the club\" / Helen Hooven Sant... Santmyer, Helen Hooven, 1895-1986   6.976744   \n",
       "\"...Ikh bin nervoso!\" / Dina Rubina.               Rubina, Dina                        4.166667   \n",
       "\n",
       "checkout_month                                                                               2   \\\n",
       "title                                              author                                         \n",
       "!Buenos nachos! / by Gina Hamadey ; foreward by... Hamadey, Gina                      13.333333   \n",
       "!Estamos en un libro! / por Mo Willems ; adapta... Willems, Mo                         9.313725   \n",
       "!No dejes que la paloma conduzca el autobus! / ... Willems, Mo                         8.510638   \n",
       "\"---and ladies of the club\" / Helen Hooven Sant... Santmyer, Helen Hooven, 1895-1986   8.139535   \n",
       "\"...Ikh bin nervoso!\" / Dina Rubina.               Rubina, Dina                       12.500000   \n",
       "\n",
       "checkout_month                                                                               3   \\\n",
       "title                                              author                                         \n",
       "!Buenos nachos! / by Gina Hamadey ; foreward by... Hamadey, Gina                      13.333333   \n",
       "!Estamos en un libro! / por Mo Willems ; adapta... Willems, Mo                         4.411765   \n",
       "!No dejes que la paloma conduzca el autobus! / ... Willems, Mo                         9.574468   \n",
       "\"---and ladies of the club\" / Helen Hooven Sant... Santmyer, Helen Hooven, 1895-1986   6.976744   \n",
       "\"...Ikh bin nervoso!\" / Dina Rubina.               Rubina, Dina                       16.666667   \n",
       "\n",
       "checkout_month                                                                               4   \\\n",
       "title                                              author                                         \n",
       "!Buenos nachos! / by Gina Hamadey ; foreward by... Hamadey, Gina                      10.000000   \n",
       "!Estamos en un libro! / por Mo Willems ; adapta... Willems, Mo                         5.882353   \n",
       "!No dejes que la paloma conduzca el autobus! / ... Willems, Mo                         6.382979   \n",
       "\"---and ladies of the club\" / Helen Hooven Sant... Santmyer, Helen Hooven, 1895-1986   8.139535   \n",
       "\"...Ikh bin nervoso!\" / Dina Rubina.               Rubina, Dina                       10.416667   \n",
       "\n",
       "checkout_month                                                                               5   \\\n",
       "title                                              author                                         \n",
       "!Buenos nachos! / by Gina Hamadey ; foreward by... Hamadey, Gina                      13.333333   \n",
       "!Estamos en un libro! / por Mo Willems ; adapta... Willems, Mo                         7.352941   \n",
       "!No dejes que la paloma conduzca el autobus! / ... Willems, Mo                         9.574468   \n",
       "\"---and ladies of the club\" / Helen Hooven Sant... Santmyer, Helen Hooven, 1895-1986   8.139535   \n",
       "\"...Ikh bin nervoso!\" / Dina Rubina.               Rubina, Dina                       12.500000   \n",
       "\n",
       "checkout_month                                                                              6   \\\n",
       "title                                              author                                        \n",
       "!Buenos nachos! / by Gina Hamadey ; foreward by... Hamadey, Gina                      3.333333   \n",
       "!Estamos en un libro! / por Mo Willems ; adapta... Willems, Mo                        4.901961   \n",
       "!No dejes que la paloma conduzca el autobus! / ... Willems, Mo                        8.510638   \n",
       "\"---and ladies of the club\" / Helen Hooven Sant... Santmyer, Helen Hooven, 1895-1986  9.302326   \n",
       "\"...Ikh bin nervoso!\" / Dina Rubina.               Rubina, Dina                       6.250000   \n",
       "\n",
       "checkout_month                                                                               7   \\\n",
       "title                                              author                                         \n",
       "!Buenos nachos! / by Gina Hamadey ; foreward by... Hamadey, Gina                       6.666667   \n",
       "!Estamos en un libro! / por Mo Willems ; adapta... Willems, Mo                         7.843137   \n",
       "!No dejes que la paloma conduzca el autobus! / ... Willems, Mo                         6.382979   \n",
       "\"---and ladies of the club\" / Helen Hooven Sant... Santmyer, Helen Hooven, 1895-1986  11.627907   \n",
       "\"...Ikh bin nervoso!\" / Dina Rubina.               Rubina, Dina                        8.333333   \n",
       "\n",
       "checkout_month                                                                               8   \\\n",
       "title                                              author                                         \n",
       "!Buenos nachos! / by Gina Hamadey ; foreward by... Hamadey, Gina                       6.666667   \n",
       "!Estamos en un libro! / por Mo Willems ; adapta... Willems, Mo                        11.274510   \n",
       "!No dejes que la paloma conduzca el autobus! / ... Willems, Mo                         4.255319   \n",
       "\"---and ladies of the club\" / Helen Hooven Sant... Santmyer, Helen Hooven, 1895-1986   8.139535   \n",
       "\"...Ikh bin nervoso!\" / Dina Rubina.               Rubina, Dina                        6.250000   \n",
       "\n",
       "checkout_month                                                                               9   \\\n",
       "title                                              author                                         \n",
       "!Buenos nachos! / by Gina Hamadey ; foreward by... Hamadey, Gina                      10.000000   \n",
       "!Estamos en un libro! / por Mo Willems ; adapta... Willems, Mo                         8.333333   \n",
       "!No dejes que la paloma conduzca el autobus! / ... Willems, Mo                        10.638298   \n",
       "\"---and ladies of the club\" / Helen Hooven Sant... Santmyer, Helen Hooven, 1895-1986   9.302326   \n",
       "\"...Ikh bin nervoso!\" / Dina Rubina.               Rubina, Dina                        6.250000   \n",
       "\n",
       "checkout_month                                                                               10  \\\n",
       "title                                              author                                         \n",
       "!Buenos nachos! / by Gina Hamadey ; foreward by... Hamadey, Gina                       3.333333   \n",
       "!Estamos en un libro! / por Mo Willems ; adapta... Willems, Mo                        12.745098   \n",
       "!No dejes que la paloma conduzca el autobus! / ... Willems, Mo                        11.702128   \n",
       "\"---and ladies of the club\" / Helen Hooven Sant... Santmyer, Helen Hooven, 1895-1986   5.813953   \n",
       "\"...Ikh bin nervoso!\" / Dina Rubina.               Rubina, Dina                        2.083333   \n",
       "\n",
       "checkout_month                                                                               11  \\\n",
       "title                                              author                                         \n",
       "!Buenos nachos! / by Gina Hamadey ; foreward by... Hamadey, Gina                       3.333333   \n",
       "!Estamos en un libro! / por Mo Willems ; adapta... Willems, Mo                        10.294118   \n",
       "!No dejes que la paloma conduzca el autobus! / ... Willems, Mo                        12.765957   \n",
       "\"---and ladies of the club\" / Helen Hooven Sant... Santmyer, Helen Hooven, 1895-1986   6.976744   \n",
       "\"...Ikh bin nervoso!\" / Dina Rubina.               Rubina, Dina                        8.333333   \n",
       "\n",
       "checkout_month                                                                               12  \n",
       "title                                              author                                        \n",
       "!Buenos nachos! / by Gina Hamadey ; foreward by... Hamadey, Gina                       3.333333  \n",
       "!Estamos en un libro! / por Mo Willems ; adapta... Willems, Mo                         9.803922  \n",
       "!No dejes que la paloma conduzca el autobus! / ... Willems, Mo                         6.382979  \n",
       "\"---and ladies of the club\" / Helen Hooven Sant... Santmyer, Helen Hooven, 1895-1986  10.465116  \n",
       "\"...Ikh bin nervoso!\" / Dina Rubina.               Rubina, Dina                        6.250000  "
      ]
     },
     "execution_count": 90,
     "metadata": {},
     "output_type": "execute_result"
    }
   ],
   "source": [
    "df_unstack_pct.head()"
   ]
  },
  {
   "cell_type": "markdown",
   "metadata": {},
   "source": [
    "### Create a new df that for each item and month, record the pointwise difference between that items monthly distribution and the overall distribution"
   ]
  },
  {
   "cell_type": "code",
   "execution_count": 91,
   "metadata": {},
   "outputs": [],
   "source": [
    "df_overindex = df_unstack_pct.copy()"
   ]
  },
  {
   "cell_type": "code",
   "execution_count": 97,
   "metadata": {},
   "outputs": [],
   "source": [
    "for index, row in df_unstack_pct.iterrows():\n",
    "    df_overindex.loc[index] = row-overall_dist"
   ]
  },
  {
   "cell_type": "code",
   "execution_count": 104,
   "metadata": {},
   "outputs": [
    {
     "data": {
      "text/html": [
       "<div>\n",
       "<style scoped>\n",
       "    .dataframe tbody tr th:only-of-type {\n",
       "        vertical-align: middle;\n",
       "    }\n",
       "\n",
       "    .dataframe tbody tr th {\n",
       "        vertical-align: top;\n",
       "    }\n",
       "\n",
       "    .dataframe thead th {\n",
       "        text-align: right;\n",
       "    }\n",
       "</style>\n",
       "<table border=\"1\" class=\"dataframe\">\n",
       "  <thead>\n",
       "    <tr style=\"text-align: right;\">\n",
       "      <th></th>\n",
       "      <th>checkout_month</th>\n",
       "      <th>1</th>\n",
       "      <th>2</th>\n",
       "      <th>3</th>\n",
       "      <th>4</th>\n",
       "      <th>5</th>\n",
       "      <th>6</th>\n",
       "      <th>7</th>\n",
       "      <th>8</th>\n",
       "      <th>9</th>\n",
       "      <th>10</th>\n",
       "      <th>11</th>\n",
       "      <th>12</th>\n",
       "    </tr>\n",
       "    <tr>\n",
       "      <th>title</th>\n",
       "      <th>author</th>\n",
       "      <th></th>\n",
       "      <th></th>\n",
       "      <th></th>\n",
       "      <th></th>\n",
       "      <th></th>\n",
       "      <th></th>\n",
       "      <th></th>\n",
       "      <th></th>\n",
       "      <th></th>\n",
       "      <th></th>\n",
       "      <th></th>\n",
       "      <th></th>\n",
       "    </tr>\n",
       "  </thead>\n",
       "  <tbody>\n",
       "    <tr>\n",
       "      <th>!Buenos nachos! / by Gina Hamadey ; foreward by Andrew Knowlton ; photography by Noah Fecks.</th>\n",
       "      <th>Hamadey, Gina</th>\n",
       "      <td>4.785714</td>\n",
       "      <td>5.546377</td>\n",
       "      <td>4.755710</td>\n",
       "      <td>1.797338</td>\n",
       "      <td>5.281916</td>\n",
       "      <td>-5.330066</td>\n",
       "      <td>-2.399561</td>\n",
       "      <td>-2.079515</td>\n",
       "      <td>2.043916</td>\n",
       "      <td>-5.218412</td>\n",
       "      <td>-4.997879</td>\n",
       "      <td>-4.185539</td>\n",
       "    </tr>\n",
       "    <tr>\n",
       "      <th>!Estamos en un libro! / por Mo Willems ; adaptado al español por F. Isabel Campoy.</th>\n",
       "      <th>Willems, Mo</th>\n",
       "      <td>-0.704482</td>\n",
       "      <td>1.526769</td>\n",
       "      <td>-4.165858</td>\n",
       "      <td>-2.320309</td>\n",
       "      <td>-0.698476</td>\n",
       "      <td>-3.761438</td>\n",
       "      <td>-1.223091</td>\n",
       "      <td>2.528328</td>\n",
       "      <td>0.377250</td>\n",
       "      <td>4.193353</td>\n",
       "      <td>1.962905</td>\n",
       "      <td>2.285049</td>\n",
       "    </tr>\n",
       "    <tr>\n",
       "      <th>!No dejes que la paloma conduzca el autobus! / palabras y dibujos de Mo Willems ; traducio por F. Isabel Campoy.</th>\n",
       "      <th>Willems, Mo</th>\n",
       "      <td>-3.228470</td>\n",
       "      <td>0.723682</td>\n",
       "      <td>0.996845</td>\n",
       "      <td>-1.819683</td>\n",
       "      <td>1.523051</td>\n",
       "      <td>-0.152761</td>\n",
       "      <td>-2.683249</td>\n",
       "      <td>-4.490862</td>\n",
       "      <td>2.682214</td>\n",
       "      <td>3.150382</td>\n",
       "      <td>4.434745</td>\n",
       "      <td>-1.135893</td>\n",
       "    </tr>\n",
       "    <tr>\n",
       "      <th>\"---and ladies of the club\" / Helen Hooven Santmyer.</th>\n",
       "      <th>Santmyer, Helen Hooven, 1895-1986</th>\n",
       "      <td>-1.570875</td>\n",
       "      <td>0.352579</td>\n",
       "      <td>-1.600879</td>\n",
       "      <td>-0.063127</td>\n",
       "      <td>0.088117</td>\n",
       "      <td>0.638927</td>\n",
       "      <td>2.561679</td>\n",
       "      <td>-0.606647</td>\n",
       "      <td>1.346242</td>\n",
       "      <td>-2.737792</td>\n",
       "      <td>-1.354468</td>\n",
       "      <td>2.946244</td>\n",
       "    </tr>\n",
       "    <tr>\n",
       "      <th>\"...Ikh bin nervoso!\" / Dina Rubina.</th>\n",
       "      <th>Rubina, Dina</th>\n",
       "      <td>-4.380953</td>\n",
       "      <td>4.713044</td>\n",
       "      <td>8.089044</td>\n",
       "      <td>2.214005</td>\n",
       "      <td>4.448583</td>\n",
       "      <td>-2.413399</td>\n",
       "      <td>-0.732895</td>\n",
       "      <td>-2.496181</td>\n",
       "      <td>-1.706084</td>\n",
       "      <td>-6.468412</td>\n",
       "      <td>0.002121</td>\n",
       "      <td>-1.268872</td>\n",
       "    </tr>\n",
       "  </tbody>\n",
       "</table>\n",
       "</div>"
      ],
      "text/plain": [
       "checkout_month                                                                              1   \\\n",
       "title                                              author                                        \n",
       "!Buenos nachos! / by Gina Hamadey ; foreward by... Hamadey, Gina                      4.785714   \n",
       "!Estamos en un libro! / por Mo Willems ; adapta... Willems, Mo                       -0.704482   \n",
       "!No dejes que la paloma conduzca el autobus! / ... Willems, Mo                       -3.228470   \n",
       "\"---and ladies of the club\" / Helen Hooven Sant... Santmyer, Helen Hooven, 1895-1986 -1.570875   \n",
       "\"...Ikh bin nervoso!\" / Dina Rubina.               Rubina, Dina                      -4.380953   \n",
       "\n",
       "checkout_month                                                                              2   \\\n",
       "title                                              author                                        \n",
       "!Buenos nachos! / by Gina Hamadey ; foreward by... Hamadey, Gina                      5.546377   \n",
       "!Estamos en un libro! / por Mo Willems ; adapta... Willems, Mo                        1.526769   \n",
       "!No dejes que la paloma conduzca el autobus! / ... Willems, Mo                        0.723682   \n",
       "\"---and ladies of the club\" / Helen Hooven Sant... Santmyer, Helen Hooven, 1895-1986  0.352579   \n",
       "\"...Ikh bin nervoso!\" / Dina Rubina.               Rubina, Dina                       4.713044   \n",
       "\n",
       "checkout_month                                                                              3   \\\n",
       "title                                              author                                        \n",
       "!Buenos nachos! / by Gina Hamadey ; foreward by... Hamadey, Gina                      4.755710   \n",
       "!Estamos en un libro! / por Mo Willems ; adapta... Willems, Mo                       -4.165858   \n",
       "!No dejes que la paloma conduzca el autobus! / ... Willems, Mo                        0.996845   \n",
       "\"---and ladies of the club\" / Helen Hooven Sant... Santmyer, Helen Hooven, 1895-1986 -1.600879   \n",
       "\"...Ikh bin nervoso!\" / Dina Rubina.               Rubina, Dina                       8.089044   \n",
       "\n",
       "checkout_month                                                                              4   \\\n",
       "title                                              author                                        \n",
       "!Buenos nachos! / by Gina Hamadey ; foreward by... Hamadey, Gina                      1.797338   \n",
       "!Estamos en un libro! / por Mo Willems ; adapta... Willems, Mo                       -2.320309   \n",
       "!No dejes que la paloma conduzca el autobus! / ... Willems, Mo                       -1.819683   \n",
       "\"---and ladies of the club\" / Helen Hooven Sant... Santmyer, Helen Hooven, 1895-1986 -0.063127   \n",
       "\"...Ikh bin nervoso!\" / Dina Rubina.               Rubina, Dina                       2.214005   \n",
       "\n",
       "checkout_month                                                                              5   \\\n",
       "title                                              author                                        \n",
       "!Buenos nachos! / by Gina Hamadey ; foreward by... Hamadey, Gina                      5.281916   \n",
       "!Estamos en un libro! / por Mo Willems ; adapta... Willems, Mo                       -0.698476   \n",
       "!No dejes que la paloma conduzca el autobus! / ... Willems, Mo                        1.523051   \n",
       "\"---and ladies of the club\" / Helen Hooven Sant... Santmyer, Helen Hooven, 1895-1986  0.088117   \n",
       "\"...Ikh bin nervoso!\" / Dina Rubina.               Rubina, Dina                       4.448583   \n",
       "\n",
       "checkout_month                                                                              6   \\\n",
       "title                                              author                                        \n",
       "!Buenos nachos! / by Gina Hamadey ; foreward by... Hamadey, Gina                     -5.330066   \n",
       "!Estamos en un libro! / por Mo Willems ; adapta... Willems, Mo                       -3.761438   \n",
       "!No dejes que la paloma conduzca el autobus! / ... Willems, Mo                       -0.152761   \n",
       "\"---and ladies of the club\" / Helen Hooven Sant... Santmyer, Helen Hooven, 1895-1986  0.638927   \n",
       "\"...Ikh bin nervoso!\" / Dina Rubina.               Rubina, Dina                      -2.413399   \n",
       "\n",
       "checkout_month                                                                              7   \\\n",
       "title                                              author                                        \n",
       "!Buenos nachos! / by Gina Hamadey ; foreward by... Hamadey, Gina                     -2.399561   \n",
       "!Estamos en un libro! / por Mo Willems ; adapta... Willems, Mo                       -1.223091   \n",
       "!No dejes que la paloma conduzca el autobus! / ... Willems, Mo                       -2.683249   \n",
       "\"---and ladies of the club\" / Helen Hooven Sant... Santmyer, Helen Hooven, 1895-1986  2.561679   \n",
       "\"...Ikh bin nervoso!\" / Dina Rubina.               Rubina, Dina                      -0.732895   \n",
       "\n",
       "checkout_month                                                                              8   \\\n",
       "title                                              author                                        \n",
       "!Buenos nachos! / by Gina Hamadey ; foreward by... Hamadey, Gina                     -2.079515   \n",
       "!Estamos en un libro! / por Mo Willems ; adapta... Willems, Mo                        2.528328   \n",
       "!No dejes que la paloma conduzca el autobus! / ... Willems, Mo                       -4.490862   \n",
       "\"---and ladies of the club\" / Helen Hooven Sant... Santmyer, Helen Hooven, 1895-1986 -0.606647   \n",
       "\"...Ikh bin nervoso!\" / Dina Rubina.               Rubina, Dina                      -2.496181   \n",
       "\n",
       "checkout_month                                                                              9   \\\n",
       "title                                              author                                        \n",
       "!Buenos nachos! / by Gina Hamadey ; foreward by... Hamadey, Gina                      2.043916   \n",
       "!Estamos en un libro! / por Mo Willems ; adapta... Willems, Mo                        0.377250   \n",
       "!No dejes que la paloma conduzca el autobus! / ... Willems, Mo                        2.682214   \n",
       "\"---and ladies of the club\" / Helen Hooven Sant... Santmyer, Helen Hooven, 1895-1986  1.346242   \n",
       "\"...Ikh bin nervoso!\" / Dina Rubina.               Rubina, Dina                      -1.706084   \n",
       "\n",
       "checkout_month                                                                              10  \\\n",
       "title                                              author                                        \n",
       "!Buenos nachos! / by Gina Hamadey ; foreward by... Hamadey, Gina                     -5.218412   \n",
       "!Estamos en un libro! / por Mo Willems ; adapta... Willems, Mo                        4.193353   \n",
       "!No dejes que la paloma conduzca el autobus! / ... Willems, Mo                        3.150382   \n",
       "\"---and ladies of the club\" / Helen Hooven Sant... Santmyer, Helen Hooven, 1895-1986 -2.737792   \n",
       "\"...Ikh bin nervoso!\" / Dina Rubina.               Rubina, Dina                      -6.468412   \n",
       "\n",
       "checkout_month                                                                              11  \\\n",
       "title                                              author                                        \n",
       "!Buenos nachos! / by Gina Hamadey ; foreward by... Hamadey, Gina                     -4.997879   \n",
       "!Estamos en un libro! / por Mo Willems ; adapta... Willems, Mo                        1.962905   \n",
       "!No dejes que la paloma conduzca el autobus! / ... Willems, Mo                        4.434745   \n",
       "\"---and ladies of the club\" / Helen Hooven Sant... Santmyer, Helen Hooven, 1895-1986 -1.354468   \n",
       "\"...Ikh bin nervoso!\" / Dina Rubina.               Rubina, Dina                       0.002121   \n",
       "\n",
       "checkout_month                                                                              12  \n",
       "title                                              author                                       \n",
       "!Buenos nachos! / by Gina Hamadey ; foreward by... Hamadey, Gina                     -4.185539  \n",
       "!Estamos en un libro! / por Mo Willems ; adapta... Willems, Mo                        2.285049  \n",
       "!No dejes que la paloma conduzca el autobus! / ... Willems, Mo                       -1.135893  \n",
       "\"---and ladies of the club\" / Helen Hooven Sant... Santmyer, Helen Hooven, 1895-1986  2.946244  \n",
       "\"...Ikh bin nervoso!\" / Dina Rubina.               Rubina, Dina                      -1.268872  "
      ]
     },
     "execution_count": 104,
     "metadata": {},
     "output_type": "execute_result"
    }
   ],
   "source": [
    "df_overindex.head()"
   ]
  },
  {
   "cell_type": "markdown",
   "metadata": {},
   "source": [
    "### calculate average overindex for each season and each item"
   ]
  },
  {
   "cell_type": "code",
   "execution_count": 119,
   "metadata": {},
   "outputs": [],
   "source": [
    "for index, row in df_overindex.iterrows():\n",
    "    df_overindex.loc[index, 'summer'] = (row[6]+row[7]+row[8])/3\n",
    "    df_overindex.loc[index, 'fall'] = (row[9]+row[10]+row[11])/3\n",
    "    df_overindex.loc[index, 'winter'] = (row[12]+row[1]+row[2])/3\n",
    "    df_overindex.loc[index, 'spring'] = (row[3]+row[4]+row[5])/3\n",
    "    \n",
    "    "
   ]
  },
  {
   "cell_type": "code",
   "execution_count": null,
   "metadata": {},
   "outputs": [],
   "source": []
  },
  {
   "cell_type": "markdown",
   "metadata": {},
   "source": [
    "### add the total number of checkouts for each item"
   ]
  },
  {
   "cell_type": "code",
   "execution_count": 122,
   "metadata": {},
   "outputs": [],
   "source": [
    "for index, row in df_unstack.iterrows():\n",
    "    df_overindex.loc[index, 'total_number_of_checkouts'] = row.sum()\n",
    "        "
   ]
  },
  {
   "cell_type": "code",
   "execution_count": 124,
   "metadata": {},
   "outputs": [],
   "source": [
    "df_overindex.to_csv('./seattle-library-checkout-records/df_overindex.csv')\n",
    "df_unstack_pct.to_csv('./seattle-library-checkout-records/df_unstack_pct.csv')\n",
    "df_unstack.to_csv('./seattle-library-checkout-records/df_unstack.csv')"
   ]
  },
  {
   "cell_type": "markdown",
   "metadata": {},
   "source": [
    "### add some meta data into the dfs"
   ]
  },
  {
   "cell_type": "code",
   "execution_count": 2,
   "metadata": {},
   "outputs": [],
   "source": [
    "df_overindex = pd.read_csv('./seattle-library-checkout-records/df_overindex.csv')\n",
    "df_unstack_pct = pd.read_csv('./seattle-library-checkout-records/df_unstack_pct.csv')\n",
    "df_unstack = pd.read_csv('./seattle-library-checkout-records/df_unstack.csv')"
   ]
  },
  {
   "cell_type": "code",
   "execution_count": 3,
   "metadata": {},
   "outputs": [
    {
     "name": "stderr",
     "output_type": "stream",
     "text": [
      "/usr/local/lib/python3.7/site-packages/IPython/core/interactiveshell.py:3058: DtypeWarning: Columns (9,16,17) have mixed types. Specify dtype option on import or set low_memory=False.\n",
      "  interactivity=interactivity, compiler=compiler, result=result)\n"
     ]
    }
   ],
   "source": [
    "df_inventory = pd.read_csv('./seattle-library-checkout-records/inventory_unique_clean_pub_year.csv')"
   ]
  },
  {
   "cell_type": "code",
   "execution_count": 4,
   "metadata": {},
   "outputs": [],
   "source": [
    "df_inventory.rename(columns = {'Author':'author', 'Title':'title'}, inplace=True)"
   ]
  },
  {
   "cell_type": "code",
   "execution_count": 7,
   "metadata": {},
   "outputs": [
    {
     "data": {
      "text/plain": [
       "165892"
      ]
     },
     "execution_count": 7,
     "metadata": {},
     "output_type": "execute_result"
    }
   ],
   "source": [
    "len(df_overindex)"
   ]
  },
  {
   "cell_type": "code",
   "execution_count": 11,
   "metadata": {},
   "outputs": [],
   "source": [
    "df_overindex_metadata = pd.merge(df_overindex, df_inventory[['author', 'title','Description','Subjects']], on =['author','title'], how='left')\n",
    "df_overindex_metadata.drop_duplicates(subset = ['author', 'title'], inplace = True)\n"
   ]
  },
  {
   "cell_type": "code",
   "execution_count": 12,
   "metadata": {},
   "outputs": [
    {
     "data": {
      "text/plain": [
       "165892"
      ]
     },
     "execution_count": 12,
     "metadata": {},
     "output_type": "execute_result"
    }
   ],
   "source": [
    "len(df_overindex_metadata)"
   ]
  },
  {
   "cell_type": "code",
   "execution_count": 13,
   "metadata": {},
   "outputs": [],
   "source": [
    "df_overindex_metadata.to_csv('./seattle-library-checkout-records/df_overindex_metadata.csv')"
   ]
  },
  {
   "cell_type": "code",
   "execution_count": null,
   "metadata": {},
   "outputs": [],
   "source": []
  }
 ],
 "metadata": {
  "anaconda-cloud": {},
  "kernelspec": {
   "display_name": "Python 3",
   "language": "python",
   "name": "python3"
  },
  "language_info": {
   "codemirror_mode": {
    "name": "ipython",
    "version": 3
   },
   "file_extension": ".py",
   "mimetype": "text/x-python",
   "name": "python",
   "nbconvert_exporter": "python",
   "pygments_lexer": "ipython3",
   "version": "3.7.4"
  },
  "toc": {
   "base_numbering": 1,
   "nav_menu": {
    "height": "13px",
    "width": "251px"
   },
   "number_sections": true,
   "sideBar": true,
   "skip_h1_title": false,
   "title_cell": "Table of Contents",
   "title_sidebar": "Contents",
   "toc_cell": false,
   "toc_position": {},
   "toc_section_display": "block",
   "toc_window_display": false
  }
 },
 "nbformat": 4,
 "nbformat_minor": 2
}
