{
 "cells": [
  {
   "cell_type": "code",
   "execution_count": 3,
   "metadata": {
    "ExecuteTime": {
     "end_time": "2018-12-28T10:13:32.057532",
     "start_time": "2018-12-28T10:13:31.695326"
    },
    "collapsed": true
   },
   "outputs": [],
   "source": [
    "import pandas as pd"
   ]
  },
  {
   "cell_type": "markdown",
   "metadata": {},
   "source": [
    "## dictionary of codes to formats (such as book and DVD)"
   ]
  },
  {
   "cell_type": "code",
   "execution_count": 3,
   "metadata": {
    "ExecuteTime": {
     "end_time": "2018-12-24T19:01:14.762511",
     "start_time": "2018-12-24T19:01:14.735681"
    },
    "collapsed": false
   },
   "outputs": [
    {
     "name": "stdout",
     "output_type": "stream",
     "text": [
      "555\n"
     ]
    },
    {
     "data": {
      "text/html": [
       "<div>\n",
       "<style scoped>\n",
       "    .dataframe tbody tr th:only-of-type {\n",
       "        vertical-align: middle;\n",
       "    }\n",
       "\n",
       "    .dataframe tbody tr th {\n",
       "        vertical-align: top;\n",
       "    }\n",
       "\n",
       "    .dataframe thead th {\n",
       "        text-align: right;\n",
       "    }\n",
       "</style>\n",
       "<table border=\"1\" class=\"dataframe\">\n",
       "  <thead>\n",
       "    <tr style=\"text-align: right;\">\n",
       "      <th></th>\n",
       "      <th>Code</th>\n",
       "      <th>Description</th>\n",
       "      <th>Code Type</th>\n",
       "      <th>Format Group</th>\n",
       "      <th>Format Subgroup</th>\n",
       "      <th>Category Group</th>\n",
       "      <th>Category Subgroup</th>\n",
       "    </tr>\n",
       "  </thead>\n",
       "  <tbody>\n",
       "    <tr>\n",
       "      <th>0</th>\n",
       "      <td>pkbknh</td>\n",
       "      <td>Peak Picks Book</td>\n",
       "      <td>ItemType</td>\n",
       "      <td>NaN</td>\n",
       "      <td>NaN</td>\n",
       "      <td>NaN</td>\n",
       "      <td>NaN</td>\n",
       "    </tr>\n",
       "    <tr>\n",
       "      <th>1</th>\n",
       "      <td>acart</td>\n",
       "      <td>Framed Art: Adult/YA</td>\n",
       "      <td>ItemType</td>\n",
       "      <td>Media</td>\n",
       "      <td>Art</td>\n",
       "      <td>NaN</td>\n",
       "      <td>NaN</td>\n",
       "    </tr>\n",
       "    <tr>\n",
       "      <th>2</th>\n",
       "      <td>acbk</td>\n",
       "      <td>Book: Adult/YA</td>\n",
       "      <td>ItemType</td>\n",
       "      <td>Print</td>\n",
       "      <td>Book</td>\n",
       "      <td>NaN</td>\n",
       "      <td>NaN</td>\n",
       "    </tr>\n",
       "    <tr>\n",
       "      <th>3</th>\n",
       "      <td>accas</td>\n",
       "      <td>Audio Tape: Adult/YA</td>\n",
       "      <td>ItemType</td>\n",
       "      <td>Media</td>\n",
       "      <td>Audio Tape</td>\n",
       "      <td>NaN</td>\n",
       "      <td>NaN</td>\n",
       "    </tr>\n",
       "    <tr>\n",
       "      <th>4</th>\n",
       "      <td>accd</td>\n",
       "      <td>CD: Adult/YA</td>\n",
       "      <td>ItemType</td>\n",
       "      <td>Media</td>\n",
       "      <td>Audio Disc</td>\n",
       "      <td>NaN</td>\n",
       "      <td>NaN</td>\n",
       "    </tr>\n",
       "  </tbody>\n",
       "</table>\n",
       "</div>"
      ],
      "text/plain": [
       "     Code           Description Code Type Format Group Format Subgroup  \\\n",
       "0  pkbknh       Peak Picks Book  ItemType          NaN             NaN   \n",
       "1   acart  Framed Art: Adult/YA  ItemType        Media             Art   \n",
       "2    acbk        Book: Adult/YA  ItemType        Print            Book   \n",
       "3   accas  Audio Tape: Adult/YA  ItemType        Media      Audio Tape   \n",
       "4    accd          CD: Adult/YA  ItemType        Media      Audio Disc   \n",
       "\n",
       "  Category Group Category Subgroup  \n",
       "0            NaN               NaN  \n",
       "1            NaN               NaN  \n",
       "2            NaN               NaN  \n",
       "3            NaN               NaN  \n",
       "4            NaN               NaN  "
      ]
     },
     "execution_count": 3,
     "metadata": {},
     "output_type": "execute_result"
    }
   ],
   "source": [
    "dictionary = pd.read_csv('./seattle-library-checkout-records/Integrated_Library_System__ILS__Data_Dictionary.csv')\n",
    "print(len(dictionary))\n",
    "dictionary.head()"
   ]
  },
  {
   "cell_type": "markdown",
   "metadata": {},
   "source": [
    "## inventory: BibNumber to Title, Author and other details of the item"
   ]
  },
  {
   "cell_type": "markdown",
   "metadata": {},
   "source": [
    "### i simplified the inventory file a little, since it had a row for every set of copies of the same book"
   ]
  },
  {
   "cell_type": "code",
   "execution_count": null,
   "metadata": {
    "ExecuteTime": {
     "end_time": "2018-12-24T17:18:12.776208",
     "start_time": "2018-12-24T17:17:53.795292"
    },
    "collapsed": true
   },
   "outputs": [],
   "source": [
    "inventory = pd.read_csv('./seattle-library-checkout-records/Library_Collection_Inventory.csv')\n",
    "del inventory['ItemCount']\n",
    "print(len(inventory))\n",
    "inventory = inventory.drop_duplicates(subset=['BibNum','Title','Author','PublicationYear','Subjects','ItemType'])\n",
    "print(len(inventory))"
   ]
  },
  {
   "cell_type": "markdown",
   "metadata": {
    "ExecuteTime": {
     "end_time": "2018-12-28T10:05:29.006154",
     "start_time": "2018-12-28T10:05:29.002825"
    }
   },
   "source": [
    "### I merge the inventory and dictionary on Code, to create one file with all the metadata"
   ]
  },
  {
   "cell_type": "code",
   "execution_count": 9,
   "metadata": {
    "ExecuteTime": {
     "end_time": "2018-12-24T19:03:56.701627",
     "start_time": "2018-12-24T19:03:56.341639"
    },
    "collapsed": false
   },
   "outputs": [],
   "source": [
    "inventory = pd.merge(inventory.rename(columns = {'ItemType': 'Code'}), dictionary, on = 'Code', how='inner')"
   ]
  },
  {
   "cell_type": "code",
   "execution_count": 10,
   "metadata": {
    "ExecuteTime": {
     "end_time": "2018-12-24T19:04:13.023753",
     "start_time": "2018-12-24T19:04:06.087389"
    },
    "collapsed": true
   },
   "outputs": [],
   "source": [
    "inventory.to_csv('./seattle-library-checkout-records/inventory_unique.csv', index=False)"
   ]
  },
  {
   "cell_type": "code",
   "execution_count": 2,
   "metadata": {
    "ExecuteTime": {
     "end_time": "2018-12-24T19:04:33.251357",
     "start_time": "2018-12-24T19:04:29.585564"
    },
    "collapsed": false
   },
   "outputs": [
    {
     "name": "stderr",
     "output_type": "stream",
     "text": [
      "//anaconda/lib/python3.5/site-packages/IPython/core/interactiveshell.py:2717: DtypeWarning: Columns (9,16) have mixed types. Specify dtype option on import or set low_memory=False.\n",
      "  interactivity=interactivity, compiler=compiler, result=result)\n"
     ]
    }
   ],
   "source": [
    "inventory = pd.read_csv('./seattle-library-checkout-records/inventory_unique.csv')"
   ]
  },
  {
   "cell_type": "markdown",
   "metadata": {},
   "source": [
    "## I groupby each yearly dataset by the BibNumber and join to the metadata table"
   ]
  },
  {
   "cell_type": "markdown",
   "metadata": {},
   "source": [
    "This gives me a list of all the unique items that were checked out each year, alongside the number of check outs they had and the item's metadata\n",
    "\n",
    "I then concat all the yearly unique check outs into one. The unified file has a manageable size because it contains only unique checkout items."
   ]
  },
  {
   "cell_type": "code",
   "execution_count": 10,
   "metadata": {
    "ExecuteTime": {
     "end_time": "2018-12-24T22:49:31.152380",
     "start_time": "2018-12-24T22:23:48.655426"
    },
    "collapsed": false
   },
   "outputs": [
    {
     "name": "stderr",
     "output_type": "stream",
     "text": [
      "//anaconda/lib/python3.5/site-packages/IPython/core/interactiveshell.py:2717: DtypeWarning: Columns (1) have mixed types. Specify dtype option on import or set low_memory=False.\n",
      "  interactivity=interactivity, compiler=compiler, result=result)\n"
     ]
    }
   ],
   "source": [
    "inventory = pd.read_csv('./seattle-library-checkout-records/inventory_unique.csv')\n",
    "inventory.rename(columns = {'BibNum': 'BibNumber'}, inplace = True)\n",
    "\n",
    "most_checkout = pd.DataFrame(columns = ['year' ,'num_checkouts', 'title', 'author', 'publication_year','publisher', 'format_subgroup','description'])\n",
    "\n",
    "for year in range(2006, 2019):\n",
    "    print(year)\n",
    "    df = pd.read_csv('./seattle-library-checkout-records/Checkouts_By_Title_Data_Lens_'+str(year)+'.csv')\n",
    "    most_checked_out = pd.merge(df.groupby('BibNumber').size().to_frame().rename(columns = {0: 'num_checkouts'}).sort_values(by='num_checkouts',ascending=False), inventory, on ='BibNumber', how='inner')\n",
    "    most_checked_out.rename(columns = {'Title':'title',\\\n",
    "                                    'Author':'author',\\\n",
    "                                    'PublicationYear' : 'publication_year',\\\n",
    "                                    'Publisher' : 'publisher',\\\n",
    "                                   'Format Subgroup':'format_subgroup',\\\n",
    "                                   'Description' : 'description'}, inplace = True)\n",
    "    \n",
    "    most_checked_out['year'] = [year]*len(most_checked_out)\n",
    "    \n",
    "    most_checkout = pd.concat([most_checkout, most_checked_out[['year', 'title','author','publication_year','publisher','format_subgroup','description','num_checkouts']]])"
   ]
  },
  {
   "cell_type": "code",
   "execution_count": 10,
   "metadata": {
    "ExecuteTime": {
     "end_time": "2018-12-27T16:38:36.550303",
     "start_time": "2018-12-27T16:38:16.007978"
    },
    "collapsed": false
   },
   "outputs": [
    {
     "name": "stdout",
     "output_type": "stream",
     "text": [
      "2947150\n",
      "  author           description format_subgroup num_checkouts publication_year  \\\n",
      "0    NaN         DVD: Adult/YA      Video Disc          2564           [2006]   \n",
      "1    NaN         DVD: Adult/YA      Video Disc          2341           [2006]   \n",
      "2    NaN         DVD: Adult/YA      Video Disc          2316           c2005.   \n",
      "3    NaN         DVD: Adult/YA      Video Disc          2294           [2006]   \n",
      "4    NaN  DVD: Juv Circulating      Video Disc          2224           c2005.   \n",
      "\n",
      "                                           publisher  \\\n",
      "0  Touchstone Home Entertainment : Distributed by...   \n",
      "1                 Distributed by Universal Pictures,   \n",
      "2                                 Warner Home Video,   \n",
      "3  Focus Features : Distributed by Universal Stud...   \n",
      "4                                 Warner Home Video,   \n",
      "\n",
      "                                               title  year  \n",
      "0  Flightplan [videorecording] / Touchstone Pictu...  2006  \n",
      "1  Broken flowers [videorecording] / Bac Films ; ...  2006  \n",
      "2  March of the penguins [videorecording] / Bonne...  2006  \n",
      "3  The constant gardener [videorecording] / Potbo...  2006  \n",
      "4  Charlie and the chocolate factory [videorecord...  2006  \n"
     ]
    }
   ],
   "source": [
    "print(len(most_checkout))\n",
    "print(most_checkout.head())\n",
    "most_checkout.to_csv('./seattle-library-checkout-records/most_checked_out_all.csv')"
   ]
  },
  {
   "cell_type": "markdown",
   "metadata": {},
   "source": [
    "## create one dataframe with 10% sample size from each year"
   ]
  },
  {
   "cell_type": "markdown",
   "metadata": {},
   "source": [
    "In order to do analysis on checkout trends (such as day of the week) we still need the dataset with all the checkouts.\n",
    "\n",
    "I created one unified dataset from all the years by taking a random 10% sample of each year.\n",
    "\n",
    "The sizes of each year are large enough that the 10% sample still perceives a lot of information."
   ]
  },
  {
   "cell_type": "code",
   "execution_count": 4,
   "metadata": {
    "ExecuteTime": {
     "end_time": "2018-12-28T10:18:04.311744",
     "start_time": "2018-12-28T10:13:36.323803"
    },
    "collapsed": false
   },
   "outputs": [
    {
     "name": "stderr",
     "output_type": "stream",
     "text": [
      "//anaconda/lib/python3.5/site-packages/IPython/core/interactiveshell.py:2717: DtypeWarning: Columns (9,16) have mixed types. Specify dtype option on import or set low_memory=False.\n",
      "  interactivity=interactivity, compiler=compiler, result=result)\n"
     ]
    },
    {
     "name": "stdout",
     "output_type": "stream",
     "text": [
      "2006\n",
      "2007\n",
      "2008\n",
      "2009\n",
      "2010\n",
      "2011\n",
      "2012\n",
      "2013\n",
      "2014\n",
      "2015\n",
      "2016\n",
      "2017\n",
      "2018\n"
     ]
    }
   ],
   "source": [
    "inventory = pd.read_csv('./seattle-library-checkout-records/inventory_unique.csv')\n",
    "inventory.rename(columns = {'BibNum': 'BibNumber'}, inplace = True)\n",
    "checkouts = pd.DataFrame(columns = ['year', 'checkout_time', 'title', 'author', 'publication_year','publisher', 'format_subgroup','description'])\n",
    "\n",
    "for year in range(2006, 2019):\n",
    "    print(year)\n",
    "    df = pd.read_csv('./seattle-library-checkout-records/Checkouts_By_Title_Data_Lens_'+str(year)+'.csv')\n",
    "    df = pd.merge(df.sample(frac=0.1), inventory, on ='BibNumber', how='inner') ##take 10% sample, and join to metadata table\n",
    "    df.rename(columns = {'Title':'title',\\\n",
    "                         'CheckoutDateTime': 'checkout_time',\\\n",
    "                        'Author':'author',\\\n",
    "                        'PublicationYear' : 'publication_year',\\\n",
    "                        'Publisher' : 'publisher',\\\n",
    "                       'Format Subgroup':'format_subgroup',\\\n",
    "                       'Description' : 'description'}, inplace = True)\n",
    "    \n",
    "    df['year'] = [year]*len(df)\n",
    "    \n",
    "    checkouts = pd.concat([checkouts, df[['year','checkout_time', 'title','author','publication_year','publisher','format_subgroup','description']]])"
   ]
  },
  {
   "cell_type": "code",
   "execution_count": 5,
   "metadata": {
    "ExecuteTime": {
     "end_time": "2018-12-28T10:21:23.940784",
     "start_time": "2018-12-28T10:21:23.924682"
    },
    "collapsed": false
   },
   "outputs": [
    {
     "name": "stdout",
     "output_type": "stream",
     "text": [
      "6757253\n",
      "   year           checkout_time  \\\n",
      "0  2006  08/10/2006 11:29:00 AM   \n",
      "1  2006  01/04/2006 07:58:00 PM   \n",
      "2  2006  10/28/2006 05:58:00 PM   \n",
      "3  2006  06/06/2006 05:28:00 PM   \n",
      "4  2006  09/21/2006 10:40:00 AM   \n",
      "\n",
      "                                               title        author  \\\n",
      "0  My busy day / by Jill Davis ; illustrated by J...  Davis, Jill.   \n",
      "1  My busy day / by Jill Davis ; illustrated by J...  Davis, Jill.   \n",
      "2  My busy day / by Jill Davis ; illustrated by J...  Davis, Jill.   \n",
      "3  My busy day / by Jill Davis ; illustrated by J...  Davis, Jill.   \n",
      "4  My busy day / by Jill Davis ; illustrated by J...  Davis, Jill.   \n",
      "\n",
      "  publication_year publisher format_subgroup description  \n",
      "0            2004.   Viking,            Book   Book: Juv  \n",
      "1            2004.   Viking,            Book   Book: Juv  \n",
      "2            2004.   Viking,            Book   Book: Juv  \n",
      "3            2004.   Viking,            Book   Book: Juv  \n",
      "4            2004.   Viking,            Book   Book: Juv  \n"
     ]
    }
   ],
   "source": [
    "print(len(checkouts))\n",
    "print(checkouts.head())"
   ]
  },
  {
   "cell_type": "code",
   "execution_count": 6,
   "metadata": {
    "ExecuteTime": {
     "end_time": "2018-12-28T10:22:36.146262",
     "start_time": "2018-12-28T10:21:26.890282"
    },
    "collapsed": true
   },
   "outputs": [],
   "source": [
    "checkouts.to_csv('./seattle-library-checkout-records/checkouts_total_sample.csv', index=False)"
   ]
  }
 ],
 "metadata": {
  "anaconda-cloud": {},
  "kernelspec": {
   "display_name": "Python [default]",
   "language": "python",
   "name": "python3"
  },
  "language_info": {
   "codemirror_mode": {
    "name": "ipython",
    "version": 3
   },
   "file_extension": ".py",
   "mimetype": "text/x-python",
   "name": "python",
   "nbconvert_exporter": "python",
   "pygments_lexer": "ipython3",
   "version": "3.5.4"
  },
  "toc": {
   "colors": {
    "hover_highlight": "#DAA520",
    "running_highlight": "#FF0000",
    "selected_highlight": "#FFD700"
   },
   "moveMenuLeft": true,
   "nav_menu": {
    "height": "11px",
    "width": "252px"
   },
   "navigate_menu": true,
   "number_sections": true,
   "sideBar": true,
   "threshold": 4,
   "toc_cell": false,
   "toc_section_display": "block",
   "toc_window_display": false
  }
 },
 "nbformat": 4,
 "nbformat_minor": 2
}
